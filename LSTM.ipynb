{
 "cells": [
  {
   "cell_type": "code",
   "execution_count": 1,
   "metadata": {
    "id": "onSX3uNJPqCj"
   },
   "outputs": [],
   "source": [
    "import numpy as np\n",
    "import pandas as pd\n",
    "from sklearn.preprocessing import MinMaxScaler\n",
    "from keras.models import Sequential\n",
    "from keras.layers import Dense, LSTM\n",
    "import matplotlib.pyplot as plt"
   ]
  },
  {
   "cell_type": "code",
   "execution_count": 2,
   "metadata": {
    "colab": {
     "base_uri": "https://localhost:8080/"
    },
    "id": "yf0uNlyQT19l",
    "outputId": "4ef294d1-24e3-443a-e733-d97bc083c8e3"
   },
   "outputs": [],
   "source": [
    "# Reading data into a Pandas DataFrame\n",
    "tsla_data = pd.read_csv('GOOG.csv', \n",
    "                        names=['Date', 'Open', 'High', 'Low', 'Close', 'Adj Close', 'Volume'], \n",
    "                        header=0)\n",
    "\n",
    "# Extracting the close price from the DataFrame\n",
    "tsla_close = tsla_data['Close'].values\n"
   ]
  },
  {
   "cell_type": "code",
   "execution_count": 3,
   "metadata": {
    "id": "lVpCvMBaT4Kv"
   },
   "outputs": [],
   "source": [
    "# Normalizing the TSLA stock data using MinMaxScaler\n",
    "scaler = MinMaxScaler(feature_range=(0, 1))\n",
    "tsla_close = tsla_close.reshape(-1, 1)\n",
    "tsla_close = scaler.fit_transform(tsla_close)"
   ]
  },
  {
   "cell_type": "code",
   "execution_count": 4,
   "metadata": {
    "id": "0vmdVDj_PqbS"
   },
   "outputs": [],
   "source": [
    "\n",
    "# Splitting the TSLA stock data into training and testing sets\n",
    "train_size = int(len(tsla_close) * 0.8)\n",
    "test_size = len(tsla_close) - train_size\n",
    "X_train, Y_train = tsla_close[0:train_size, :], tsla_close[1:train_size+1, :]\n",
    "X_test, Y_test = tsla_close[train_size:len(tsla_close), :], tsla_close[train_size+1:len(tsla_close), :]\n",
    "\n",
    "# Transforming the TSLA stock data into 3D arrays\n",
    "def create_dataset(data, lookback=1):\n",
    "    X, Y = [], []\n",
    "    for i in range(len(data) - lookback - 1):\n",
    "        a = data[i:(i + lookback), 0]\n",
    "        X.append(a)\n",
    "        Y.append(data[i + lookback, 0])\n",
    "    return np.array(X), np.array(Y)\n",
    "\n",
    "lookback = 1\n",
    "X_train, Y_train = create_dataset(X_train, lookback)\n",
    "X_test, Y_test = create_dataset(X_test, lookback)\n",
    "\n",
    "# Reshaping the arrays into 3D arrays\n",
    "X_train = np.reshape(X_train, (X_train.shape[0], X_train.shape[1], 1))\n",
    "X_test = np.reshape(X_test, (X_test.shape[0], X_test.shape[1], 1))\n",
    "\n",
    "\n"
   ]
  },
  {
   "cell_type": "code",
   "execution_count": 5,
   "metadata": {
    "colab": {
     "base_uri": "https://localhost:8080/"
    },
    "id": "aizLBwiaT-Rn",
    "outputId": "7f8d794c-12d5-4f8d-8d4b-7b7448882246"
   },
   "outputs": [
    {
     "name": "stdout",
     "output_type": "stream",
     "text": [
      "Epoch 1/100\n"
     ]
    },
    {
     "name": "stderr",
     "output_type": "stream",
     "text": [
      "C:\\Users\\KIIT\\AppData\\Roaming\\Python\\Python312\\site-packages\\keras\\src\\layers\\rnn\\rnn.py:200: UserWarning: Do not pass an `input_shape`/`input_dim` argument to a layer. When using Sequential models, prefer using an `Input(shape)` object as the first layer in the model instead.\n",
      "  super().__init__(**kwargs)\n"
     ]
    },
    {
     "name": "stdout",
     "output_type": "stream",
     "text": [
      "20/20 - 3s - 156ms/step - loss: 0.3150\n",
      "Epoch 2/100\n",
      "20/20 - 0s - 9ms/step - loss: 0.1846\n",
      "Epoch 3/100\n",
      "20/20 - 0s - 6ms/step - loss: 0.0566\n",
      "Epoch 4/100\n",
      "20/20 - 0s - 6ms/step - loss: 0.0282\n",
      "Epoch 5/100\n",
      "20/20 - 0s - 5ms/step - loss: 0.0214\n",
      "Epoch 6/100\n",
      "20/20 - 0s - 7ms/step - loss: 0.0156\n",
      "Epoch 7/100\n",
      "20/20 - 0s - 8ms/step - loss: 0.0105\n",
      "Epoch 8/100\n",
      "20/20 - 0s - 7ms/step - loss: 0.0063\n",
      "Epoch 9/100\n",
      "20/20 - 0s - 6ms/step - loss: 0.0034\n",
      "Epoch 10/100\n",
      "20/20 - 0s - 7ms/step - loss: 0.0018\n",
      "Epoch 11/100\n",
      "20/20 - 0s - 7ms/step - loss: 0.0011\n",
      "Epoch 12/100\n",
      "20/20 - 0s - 7ms/step - loss: 9.1958e-04\n",
      "Epoch 13/100\n",
      "20/20 - 0s - 8ms/step - loss: 8.5828e-04\n",
      "Epoch 14/100\n",
      "20/20 - 0s - 7ms/step - loss: 8.4949e-04\n",
      "Epoch 15/100\n",
      "20/20 - 0s - 9ms/step - loss: 8.4078e-04\n",
      "Epoch 16/100\n",
      "20/20 - 0s - 9ms/step - loss: 8.3231e-04\n",
      "Epoch 17/100\n",
      "20/20 - 0s - 8ms/step - loss: 8.3872e-04\n",
      "Epoch 18/100\n",
      "20/20 - 0s - 10ms/step - loss: 8.1474e-04\n",
      "Epoch 19/100\n",
      "20/20 - 0s - 8ms/step - loss: 7.9999e-04\n",
      "Epoch 20/100\n",
      "20/20 - 0s - 9ms/step - loss: 7.8910e-04\n",
      "Epoch 21/100\n",
      "20/20 - 0s - 7ms/step - loss: 7.7921e-04\n",
      "Epoch 22/100\n",
      "20/20 - 0s - 9ms/step - loss: 7.7637e-04\n",
      "Epoch 23/100\n",
      "20/20 - 0s - 7ms/step - loss: 7.7509e-04\n",
      "Epoch 24/100\n",
      "20/20 - 0s - 8ms/step - loss: 7.7340e-04\n",
      "Epoch 25/100\n",
      "20/20 - 0s - 10ms/step - loss: 7.5212e-04\n",
      "Epoch 26/100\n",
      "20/20 - 0s - 8ms/step - loss: 7.4216e-04\n",
      "Epoch 27/100\n",
      "20/20 - 0s - 10ms/step - loss: 7.2162e-04\n",
      "Epoch 28/100\n",
      "20/20 - 0s - 7ms/step - loss: 7.0770e-04\n",
      "Epoch 29/100\n",
      "20/20 - 0s - 11ms/step - loss: 6.9786e-04\n",
      "Epoch 30/100\n",
      "20/20 - 0s - 8ms/step - loss: 6.9218e-04\n",
      "Epoch 31/100\n",
      "20/20 - 0s - 10ms/step - loss: 6.7884e-04\n",
      "Epoch 32/100\n",
      "20/20 - 0s - 9ms/step - loss: 6.7852e-04\n",
      "Epoch 33/100\n",
      "20/20 - 0s - 10ms/step - loss: 6.8400e-04\n",
      "Epoch 34/100\n",
      "20/20 - 0s - 8ms/step - loss: 6.5110e-04\n",
      "Epoch 35/100\n",
      "20/20 - 0s - 9ms/step - loss: 6.4097e-04\n",
      "Epoch 36/100\n",
      "20/20 - 0s - 10ms/step - loss: 6.2694e-04\n",
      "Epoch 37/100\n",
      "20/20 - 0s - 8ms/step - loss: 6.2241e-04\n",
      "Epoch 38/100\n",
      "20/20 - 0s - 8ms/step - loss: 6.1542e-04\n",
      "Epoch 39/100\n",
      "20/20 - 0s - 8ms/step - loss: 5.9914e-04\n",
      "Epoch 40/100\n",
      "20/20 - 0s - 9ms/step - loss: 5.9329e-04\n",
      "Epoch 41/100\n",
      "20/20 - 0s - 10ms/step - loss: 5.8751e-04\n",
      "Epoch 42/100\n",
      "20/20 - 0s - 9ms/step - loss: 5.8629e-04\n",
      "Epoch 43/100\n",
      "20/20 - 0s - 6ms/step - loss: 5.9510e-04\n",
      "Epoch 44/100\n",
      "20/20 - 0s - 8ms/step - loss: 5.8344e-04\n",
      "Epoch 45/100\n",
      "20/20 - 0s - 8ms/step - loss: 5.5563e-04\n",
      "Epoch 46/100\n",
      "20/20 - 0s - 7ms/step - loss: 5.4380e-04\n",
      "Epoch 47/100\n",
      "20/20 - 0s - 9ms/step - loss: 5.3902e-04\n",
      "Epoch 48/100\n",
      "20/20 - 0s - 7ms/step - loss: 5.3630e-04\n",
      "Epoch 49/100\n",
      "20/20 - 0s - 9ms/step - loss: 5.2706e-04\n",
      "Epoch 50/100\n",
      "20/20 - 0s - 8ms/step - loss: 5.1554e-04\n",
      "Epoch 51/100\n",
      "20/20 - 0s - 8ms/step - loss: 5.3034e-04\n",
      "Epoch 52/100\n",
      "20/20 - 0s - 7ms/step - loss: 5.1055e-04\n",
      "Epoch 53/100\n",
      "20/20 - 0s - 10ms/step - loss: 5.0908e-04\n",
      "Epoch 54/100\n",
      "20/20 - 0s - 7ms/step - loss: 4.9178e-04\n",
      "Epoch 55/100\n",
      "20/20 - 0s - 9ms/step - loss: 4.9100e-04\n",
      "Epoch 56/100\n",
      "20/20 - 0s - 10ms/step - loss: 5.0438e-04\n",
      "Epoch 57/100\n",
      "20/20 - 0s - 9ms/step - loss: 4.8061e-04\n",
      "Epoch 58/100\n",
      "20/20 - 0s - 6ms/step - loss: 4.9082e-04\n",
      "Epoch 59/100\n",
      "20/20 - 0s - 8ms/step - loss: 4.7504e-04\n",
      "Epoch 60/100\n",
      "20/20 - 0s - 7ms/step - loss: 4.7001e-04\n",
      "Epoch 61/100\n",
      "20/20 - 0s - 8ms/step - loss: 4.6409e-04\n",
      "Epoch 62/100\n",
      "20/20 - 0s - 9ms/step - loss: 4.7107e-04\n",
      "Epoch 63/100\n",
      "20/20 - 0s - 8ms/step - loss: 4.7863e-04\n",
      "Epoch 64/100\n",
      "20/20 - 0s - 10ms/step - loss: 4.7188e-04\n",
      "Epoch 65/100\n",
      "20/20 - 0s - 9ms/step - loss: 4.6964e-04\n",
      "Epoch 66/100\n",
      "20/20 - 0s - 6ms/step - loss: 4.7093e-04\n",
      "Epoch 67/100\n",
      "20/20 - 0s - 9ms/step - loss: 4.6007e-04\n",
      "Epoch 68/100\n",
      "20/20 - 0s - 9ms/step - loss: 4.4477e-04\n",
      "Epoch 69/100\n",
      "20/20 - 0s - 8ms/step - loss: 4.5592e-04\n",
      "Epoch 70/100\n",
      "20/20 - 0s - 7ms/step - loss: 4.5717e-04\n",
      "Epoch 71/100\n",
      "20/20 - 0s - 8ms/step - loss: 4.4422e-04\n",
      "Epoch 72/100\n",
      "20/20 - 0s - 9ms/step - loss: 4.4129e-04\n",
      "Epoch 73/100\n",
      "20/20 - 0s - 7ms/step - loss: 4.7107e-04\n",
      "Epoch 74/100\n",
      "20/20 - 0s - 8ms/step - loss: 4.3960e-04\n",
      "Epoch 75/100\n",
      "20/20 - 0s - 16ms/step - loss: 4.3942e-04\n",
      "Epoch 76/100\n",
      "20/20 - 0s - 6ms/step - loss: 4.4027e-04\n",
      "Epoch 77/100\n",
      "20/20 - 0s - 7ms/step - loss: 4.3836e-04\n",
      "Epoch 78/100\n",
      "20/20 - 0s - 7ms/step - loss: 4.3487e-04\n",
      "Epoch 79/100\n",
      "20/20 - 0s - 7ms/step - loss: 4.3678e-04\n",
      "Epoch 80/100\n",
      "20/20 - 0s - 8ms/step - loss: 4.3346e-04\n",
      "Epoch 81/100\n",
      "20/20 - 0s - 9ms/step - loss: 4.3875e-04\n",
      "Epoch 82/100\n",
      "20/20 - 0s - 8ms/step - loss: 4.4268e-04\n",
      "Epoch 83/100\n",
      "20/20 - 0s - 8ms/step - loss: 4.3937e-04\n",
      "Epoch 84/100\n",
      "20/20 - 0s - 8ms/step - loss: 4.4477e-04\n",
      "Epoch 85/100\n",
      "20/20 - 0s - 8ms/step - loss: 4.3723e-04\n",
      "Epoch 86/100\n",
      "20/20 - 0s - 6ms/step - loss: 4.3863e-04\n",
      "Epoch 87/100\n",
      "20/20 - 0s - 8ms/step - loss: 4.3662e-04\n",
      "Epoch 88/100\n",
      "20/20 - 0s - 9ms/step - loss: 4.8029e-04\n",
      "Epoch 89/100\n",
      "20/20 - 0s - 6ms/step - loss: 4.4589e-04\n",
      "Epoch 90/100\n",
      "20/20 - 0s - 8ms/step - loss: 4.3489e-04\n",
      "Epoch 91/100\n",
      "20/20 - 0s - 9ms/step - loss: 4.4811e-04\n",
      "Epoch 92/100\n",
      "20/20 - 0s - 7ms/step - loss: 4.2995e-04\n",
      "Epoch 93/100\n",
      "20/20 - 0s - 8ms/step - loss: 4.4613e-04\n",
      "Epoch 94/100\n",
      "20/20 - 0s - 8ms/step - loss: 4.5527e-04\n",
      "Epoch 95/100\n",
      "20/20 - 0s - 8ms/step - loss: 4.3941e-04\n",
      "Epoch 96/100\n",
      "20/20 - 0s - 9ms/step - loss: 4.3735e-04\n",
      "Epoch 97/100\n",
      "20/20 - 0s - 8ms/step - loss: 4.2829e-04\n",
      "Epoch 98/100\n",
      "20/20 - 0s - 9ms/step - loss: 4.3216e-04\n",
      "Epoch 99/100\n",
      "20/20 - 0s - 8ms/step - loss: 4.4592e-04\n",
      "Epoch 100/100\n",
      "20/20 - 0s - 9ms/step - loss: 4.2982e-04\n",
      "\u001b[1m20/20\u001b[0m \u001b[32m━━━━━━━━━━━━━━━━━━━━\u001b[0m\u001b[37m\u001b[0m \u001b[1m1s\u001b[0m 21ms/step\n",
      "\u001b[1m5/5\u001b[0m \u001b[32m━━━━━━━━━━━━━━━━━━━━\u001b[0m\u001b[37m\u001b[0m \u001b[1m0s\u001b[0m 8ms/step \n"
     ]
    }
   ],
   "source": [
    "# Defining the LSTM model\n",
    "model = Sequential()\n",
    "model.add(LSTM(units=50, return_sequences=True, input_shape=(X_train.shape[1], 1)))\n",
    "model.add(LSTM(units=50))\n",
    "model.add(Dense(1))\n",
    "model.compile(loss='mean_squared_error', optimizer='adam')\n",
    "\n",
    "# Training the LSTM model on the training data\n",
    "history = model.fit(X_train, Y_train, epochs=100, batch_size=32, verbose=2)\n",
    "\n",
    "# Evaluating the model on the test data\n",
    "train_predict = model.predict(X_train)\n",
    "test_predict = model.predict(X_test)\n"
   ]
  },
  {
   "cell_type": "code",
   "execution_count": 6,
   "metadata": {
    "id": "JsipflXMVDHc"
   },
   "outputs": [],
   "source": [
    "# Inverting the normalized data back to the original scale\n",
    "scaler.fit(tsla_close.reshape(-1, 1))\n",
    "train_predict = scaler.inverse_transform(train_predict)\n",
    "Y_train = scaler.inverse_transform(Y_train.reshape(-1, 1))\n",
    "test_predict = scaler.inverse_transform(test_predict)\n",
    "Y_test = scaler.inverse_transform(Y_test.reshape(-1,1))"
   ]
  },
  {
   "cell_type": "code",
   "execution_count": 7,
   "metadata": {
    "colab": {
     "base_uri": "https://localhost:8080/"
    },
    "id": "p6tMu66JP4Li",
    "outputId": "be12e99c-eff7-4411-c96c-e0b9fd447a90"
   },
   "outputs": [
    {
     "name": "stdout",
     "output_type": "stream",
     "text": [
      "Training MAE: 0.01526274323858847\n",
      "Testing MAE: 0.020068455631639052\n"
     ]
    }
   ],
   "source": [
    "# Calculating the mean absolute error (MAE) of the training and test sets\n",
    "train_mae = np.mean(abs(train_predict - Y_train))\n",
    "test_mae = np.mean(abs(test_predict - Y_test))\n",
    "print('Training MAE:', train_mae)\n",
    "print('Testing MAE:', test_mae)"
   ]
  },
  {
   "cell_type": "code",
   "execution_count": null,
   "metadata": {},
   "outputs": [],
   "source": []
  },
  {
   "cell_type": "code",
   "execution_count": 8,
   "metadata": {
    "colab": {
     "base_uri": "https://localhost:8080/",
     "height": 265
    },
    "id": "Kk5aQMd_PqkZ",
    "outputId": "c2c31ac7-c026-41c4-8b4a-18ca88fcbc85"
   },
   "outputs": [
    {
     "data": {
      "image/png": "[encoded data removed]",
      "text/plain": [
       "<Figure size 640x480 with 1 Axes>"
      ]
     },
     "metadata": {},
     "output_type": "display_data"
    }
   ],
   "source": [
    "# Plotting the predicted and actual values\n",
    "plt.plot(Y_test, label = 'Actual')\n",
    "plt.plot(test_predict, label = 'Predicted')\n",
    "plt.legend()\n",
    "plt.show()"
   ]
  },
  {
   "cell_type": "code",
   "execution_count": 9,
   "metadata": {},
   "outputs": [
    {
     "name": "stdout",
     "output_type": "stream",
     "text": [
      "\u001b[1m1/1\u001b[0m \u001b[32m━━━━━━━━━━━━━━━━━━━━\u001b[0m\u001b[37m\u001b[0m \u001b[1m0s\u001b[0m 59ms/step\n",
      "Predicted close price for tomorrow:  0.42882037\n"
     ]
    }
   ],
   "source": [
    "# Get the latest close price\n",
    "latest_close = tsla_close[-1]\n",
    "\n",
    "# Normalize the latest close price\n",
    "latest_close = latest_close.reshape(1, -1)\n",
    "latest_close = scaler.transform(latest_close)\n",
    "\n",
    "# Reshape the latest close price into a 3D array\n",
    "latest_close = np.reshape(latest_close, (1, lookback, 1))\n",
    "\n",
    "# Predict the close price for tomorrow\n",
    "tomorrow_predict = model.predict(latest_close)\n",
    "\n",
    "# Invert the normalized prediction back to the original scale\n",
    "tomorrow_predict = scaler.inverse_transform(tomorrow_predict)\n",
    "\n",
    "# Print the prediction\n",
    "print(\"Predicted close price for tomorrow: \", tomorrow_predict[0][0])\n"
   ]
  },
  {
   "cell_type": "code",
   "execution_count": 10,
   "metadata": {},
   "outputs": [
    {
     "name": "stdout",
     "output_type": "stream",
     "text": [
      "Predicted close price for tomorrow:  0.34591573\n"
     ]
    }
   ],
   "source": [
    "scaler.fit(tsla_close.reshape(-1, 1))\n",
    "predicted_price = scaler.inverse_transform(np.array([[0.34591573]]))\n",
    "print(\"Predicted close price for tomorrow: \", predicted_price[0][0])\n"
   ]
  },
  {
   "cell_type": "code",
   "execution_count": 11,
   "metadata": {},
   "outputs": [
    {
     "name": "stdout",
     "output_type": "stream",
     "text": [
      "Latest actual close price:  [0.43553197]\n"
     ]
    }
   ],
   "source": [
    "# Get the latest actual value\n",
    "latest_actual = Y_test[-1]\n",
    "print(\"Latest actual close price: \", latest_actual)\n"
   ]
  },
  {
   "cell_type": "code",
   "execution_count": 12,
   "metadata": {},
   "outputs": [
    {
     "data": {
      "text/html": [
       "<pre style=\"white-space:pre;overflow-x:auto;line-height:normal;font-family:Menlo,'DejaVu Sans Mono',consolas,'Courier New',monospace\"><span style=\"font-weight: bold\">Model: \"sequential\"</span>\n",
       "</pre>\n"
      ],
      "text/plain": [
       "\u001b[1mModel: \"sequential\"\u001b[0m\n"
      ]
     },
     "metadata": {},
     "output_type": "display_data"
    },
    {
     "data": {
      "text/html": [
       "<pre style=\"white-space:pre;overflow-x:auto;line-height:normal;font-family:Menlo,'DejaVu Sans Mono',consolas,'Courier New',monospace\">┏━━━━━━━━━━━━━━━━━━━━━━━━━━━━━━━━━━━━━━┳━━━━━━━━━━━━━━━━━━━━━━━━━━━━━┳━━━━━━━━━━━━━━━━━┓\n",
       "┃<span style=\"font-weight: bold\"> Layer (type)                         </span>┃<span style=\"font-weight: bold\"> Output Shape                </span>┃<span style=\"font-weight: bold\">         Param # </span>┃\n",
       "┡━━━━━━━━━━━━━━━━━━━━━━━━━━━━━━━━━━━━━━╇━━━━━━━━━━━━━━━━━━━━━━━━━━━━━╇━━━━━━━━━━━━━━━━━┩\n",
       "│ lstm (<span style=\"color: #0087ff; text-decoration-color: #0087ff\">LSTM</span>)                          │ (<span style=\"color: #00d7ff; text-decoration-color: #00d7ff\">None</span>, <span style=\"color: #00af00; text-decoration-color: #00af00\">1</span>, <span style=\"color: #00af00; text-decoration-color: #00af00\">50</span>)               │          <span style=\"color: #00af00; text-decoration-color: #00af00\">10,400</span> │\n",
       "├──────────────────────────────────────┼─────────────────────────────┼─────────────────┤\n",
       "│ lstm_1 (<span style=\"color: #0087ff; text-decoration-color: #0087ff\">LSTM</span>)                        │ (<span style=\"color: #00d7ff; text-decoration-color: #00d7ff\">None</span>, <span style=\"color: #00af00; text-decoration-color: #00af00\">50</span>)                  │          <span style=\"color: #00af00; text-decoration-color: #00af00\">20,200</span> │\n",
       "├──────────────────────────────────────┼─────────────────────────────┼─────────────────┤\n",
       "│ dense (<span style=\"color: #0087ff; text-decoration-color: #0087ff\">Dense</span>)                        │ (<span style=\"color: #00d7ff; text-decoration-color: #00d7ff\">None</span>, <span style=\"color: #00af00; text-decoration-color: #00af00\">1</span>)                   │              <span style=\"color: #00af00; text-decoration-color: #00af00\">51</span> │\n",
       "└──────────────────────────────────────┴─────────────────────────────┴─────────────────┘\n",
       "</pre>\n"
      ],
      "text/plain": [
       "┏━━━━━━━━━━━━━━━━━━━━━━━━━━━━━━━━━━━━━━┳━━━━━━━━━━━━━━━━━━━━━━━━━━━━━┳━━━━━━━━━━━━━━━━━┓\n",
       "┃\u001b[1m \u001b[0m\u001b[1mLayer (type)                        \u001b[0m\u001b[1m \u001b[0m┃\u001b[1m \u001b[0m\u001b[1mOutput Shape               \u001b[0m\u001b[1m \u001b[0m┃\u001b[1m \u001b[0m\u001b[1m        Param #\u001b[0m\u001b[1m \u001b[0m┃\n",
       "┡━━━━━━━━━━━━━━━━━━━━━━━━━━━━━━━━━━━━━━╇━━━━━━━━━━━━━━━━━━━━━━━━━━━━━╇━━━━━━━━━━━━━━━━━┩\n",
       "│ lstm (\u001b[38;5;33mLSTM\u001b[0m)                          │ (\u001b[38;5;45mNone\u001b[0m, \u001b[38;5;34m1\u001b[0m, \u001b[38;5;34m50\u001b[0m)               │          \u001b[38;5;34m10,400\u001b[0m │\n",
       "├──────────────────────────────────────┼─────────────────────────────┼─────────────────┤\n",
       "│ lstm_1 (\u001b[38;5;33mLSTM\u001b[0m)                        │ (\u001b[38;5;45mNone\u001b[0m, \u001b[38;5;34m50\u001b[0m)                  │          \u001b[38;5;34m20,200\u001b[0m │\n",
       "├──────────────────────────────────────┼─────────────────────────────┼─────────────────┤\n",
       "│ dense (\u001b[38;5;33mDense\u001b[0m)                        │ (\u001b[38;5;45mNone\u001b[0m, \u001b[38;5;34m1\u001b[0m)                   │              \u001b[38;5;34m51\u001b[0m │\n",
       "└──────────────────────────────────────┴─────────────────────────────┴─────────────────┘\n"
      ]
     },
     "metadata": {},
     "output_type": "display_data"
    },
    {
     "data": {
      "text/html": [
       "<pre style=\"white-space:pre;overflow-x:auto;line-height:normal;font-family:Menlo,'DejaVu Sans Mono',consolas,'Courier New',monospace\"><span style=\"font-weight: bold\"> Total params: </span><span style=\"color: #00af00; text-decoration-color: #00af00\">91,955</span> (359.20 KB)\n",
       "</pre>\n"
      ],
      "text/plain": [
       "\u001b[1m Total params: \u001b[0m\u001b[38;5;34m91,955\u001b[0m (359.20 KB)\n"
      ]
     },
     "metadata": {},
     "output_type": "display_data"
    },
    {
     "data": {
      "text/html": [
       "<pre style=\"white-space:pre;overflow-x:auto;line-height:normal;font-family:Menlo,'DejaVu Sans Mono',consolas,'Courier New',monospace\"><span style=\"font-weight: bold\"> Trainable params: </span><span style=\"color: #00af00; text-decoration-color: #00af00\">30,651</span> (119.73 KB)\n",
       "</pre>\n"
      ],
      "text/plain": [
       "\u001b[1m Trainable params: \u001b[0m\u001b[38;5;34m30,651\u001b[0m (119.73 KB)\n"
      ]
     },
     "metadata": {},
     "output_type": "display_data"
    },
    {
     "data": {
      "text/html": [
       "<pre style=\"white-space:pre;overflow-x:auto;line-height:normal;font-family:Menlo,'DejaVu Sans Mono',consolas,'Courier New',monospace\"><span style=\"font-weight: bold\"> Non-trainable params: </span><span style=\"color: #00af00; text-decoration-color: #00af00\">0</span> (0.00 B)\n",
       "</pre>\n"
      ],
      "text/plain": [
       "\u001b[1m Non-trainable params: \u001b[0m\u001b[38;5;34m0\u001b[0m (0.00 B)\n"
      ]
     },
     "metadata": {},
     "output_type": "display_data"
    },
    {
     "data": {
      "text/html": [
       "<pre style=\"white-space:pre;overflow-x:auto;line-height:normal;font-family:Menlo,'DejaVu Sans Mono',consolas,'Courier New',monospace\"><span style=\"font-weight: bold\"> Optimizer params: </span><span style=\"color: #00af00; text-decoration-color: #00af00\">61,304</span> (239.47 KB)\n",
       "</pre>\n"
      ],
      "text/plain": [
       "\u001b[1m Optimizer params: \u001b[0m\u001b[38;5;34m61,304\u001b[0m (239.47 KB)\n"
      ]
     },
     "metadata": {},
     "output_type": "display_data"
    }
   ],
   "source": [
    "model.summary()"
   ]
  }
 ],
 "metadata": {
  "accelerator": "GPU",
  "colab": {
   "provenance": []
  },
  "gpuClass": "standard",
  "kernelspec": {
   "display_name": "Python 3 (ipykernel)",
   "language": "python",
   "name": "python3"
  },
  "language_info": {
   "codemirror_mode": {
    "name": "ipython",
    "version": 3
   },
   "file_extension": ".py",
   "mimetype": "text/x-python",
   "name": "python",
   "nbconvert_exporter": "python",
   "pygments_lexer": "ipython3",
   "version": "3.12.3"
  },
  "vscode": {
   "interpreter": {
    "hash": "553938beef47038dfb95f51e64d059a1195c8ba1d56a7d809f7c9076f321f3c1"
   }
  }
 },
 "nbformat": 4,
 "nbformat_minor": 4
}
